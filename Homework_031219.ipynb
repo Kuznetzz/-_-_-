{
 "cells": [
  {
   "cell_type": "markdown",
   "metadata": {},
   "source": [
    "## Урок 1. Алгоритм линейной регрессии. Градиентный спуск"
   ]
  },
  {
   "cell_type": "code",
   "execution_count": 1,
   "metadata": {},
   "outputs": [],
   "source": [
    "#!pip install bayesian-optimization"
   ]
  },
  {
   "cell_type": "code",
   "execution_count": 2,
   "metadata": {
    "colab": {},
    "colab_type": "code",
    "id": "ak8b3KV45kVW"
   },
   "outputs": [],
   "source": [
    "import numpy as np\n",
    "import matplotlib.pyplot as plt\n",
    "from bayes_opt import BayesianOptimization\n",
    "import timeit"
   ]
  },
  {
   "cell_type": "markdown",
   "metadata": {},
   "source": [
    "### Д/З"
   ]
  },
  {
   "cell_type": "markdown",
   "metadata": {
    "colab_type": "text",
    "id": "huXrhXQsZTMt"
   },
   "source": [
    "1. Подберите скорость обучения (alpha) и количество итераций"
   ]
  },
  {
   "cell_type": "code",
   "execution_count": 3,
   "metadata": {},
   "outputs": [
    {
     "data": {
      "text/plain": [
       "array([[ 1,  1,  1,  1,  1,  1,  1,  1,  1,  1],\n",
       "       [ 1,  1,  2,  5,  3,  0,  5, 10,  1,  2]])"
      ]
     },
     "execution_count": 3,
     "metadata": {},
     "output_type": "execute_result"
    }
   ],
   "source": [
    "X = np.array([[1, 1, 1, 1, 1, 1, 1, 1, 1, 1],\n",
    "              [1, 1, 2, 5, 3, 0, 5, 10, 1, 2]])\n",
    "X"
   ]
  },
  {
   "cell_type": "code",
   "execution_count": 4,
   "metadata": {},
   "outputs": [
    {
     "data": {
      "text/plain": [
       "[45, 55, 50, 55, 60, 35, 75, 80, 50, 60]"
      ]
     },
     "execution_count": 4,
     "metadata": {},
     "output_type": "execute_result"
    }
   ],
   "source": [
    "y = [45, 55, 50, 55, 60, 35, 75, 80, 50, 60]\n",
    "y"
   ]
  },
  {
   "cell_type": "code",
   "execution_count": 5,
   "metadata": {},
   "outputs": [],
   "source": [
    "def calc_mse(y, y_pred):\n",
    "    err = np.mean((y - y_pred)**2) # <=> 1/n * np.sum((y_pred - y)**2)\n",
    "    return err"
   ]
  },
  {
   "cell_type": "code",
   "execution_count": 6,
   "metadata": {
    "colab": {
     "base_uri": "https://localhost:8080/",
     "height": 185
    },
    "colab_type": "code",
    "id": "IDB22MQKMYaJ",
    "outputId": "4c03219e-a57c-4583-f439-6699fd0619bb"
   },
   "outputs": [
    {
     "name": "stdout",
     "output_type": "stream",
     "text": [
      "Number of objects = 10        \n",
      "Learning rate = 0.055        \n",
      "Initial weights = [1.  0.5] \n",
      "\n",
      "Iteration #0: W_new = [ 6.94  21.235], MSE = 3047.75\n",
      "Iteration #10: W_new = [22.06405765 13.06063842], MSE = 848.44\n",
      "Iteration #20: W_new = [31.21345509  8.7771262 ], MSE = 268.66\n",
      "Iteration #30: W_new = [36.73513379  6.50786479], MSE = 109.6\n",
      "Iteration #40: W_new = [40.06112387  5.29211526], MSE = 64.0\n",
      "Iteration #50: W_new = [42.06149781  4.63338341], MSE = 50.33\n",
      "Iteration #60: W_new = [43.26313928  4.2724736 ], MSE = 46.05\n",
      "Iteration #70: W_new = [43.98427548  4.07261073], MSE = 44.67\n",
      "Iteration #80: W_new = [44.41671151  3.96081125], MSE = 44.21\n",
      "Iteration #90: W_new = [44.67586386  3.89768846], MSE = 44.05\n",
      "Iteration #100: W_new = [44.83109194  3.86174724], MSE = 44.0\n",
      "Iteration #110: W_new = [44.92403348  3.84112851], MSE = 43.98\n",
      "Iteration #120: W_new = [44.97966334  3.82922172], MSE = 43.97\n"
     ]
    }
   ],
   "source": [
    "n = X.shape[1]\n",
    "alpha = 0.055\n",
    "W = np.array([1, 0.5])\n",
    "print(f'Number of objects = {n} \\\n",
    "       \\nLearning rate = {alpha} \\\n",
    "       \\nInitial weights = {W} \\n')\n",
    "\n",
    "for i in range(121):\n",
    "    y_pred = np.dot(W, X)\n",
    "    err = calc_mse(y, y_pred)\n",
    "    for k in range(W.shape[0]):\n",
    "        W[k] -= alpha * (1/n * 2 * np.sum(X[k] * (y_pred - y)))\n",
    "    if i % 10 == 0:\n",
    "        print(f'Iteration #{i}: W_new = {W}, MSE = {round(err,2)}')\n",
    "\n",
    "\n"
   ]
  },
  {
   "cell_type": "markdown",
   "metadata": {
    "colab_type": "text",
    "id": "5Qu1o4JhZYwI"
   },
   "source": [
    "*2. В этом коде мы избавляемся от итераций по весам, но тут есть ошибка, исправьте ее"
   ]
  },
  {
   "cell_type": "code",
   "execution_count": 7,
   "metadata": {
    "colab": {
     "base_uri": "https://localhost:8080/",
     "height": 185
    },
    "colab_type": "code",
    "id": "WZZzDCQLY4pA",
    "outputId": "28f58ade-72f2-4381-809d-2417752d56e4"
   },
   "outputs": [
    {
     "name": "stdout",
     "output_type": "stream",
     "text": [
      "Number of objects = 10        \n",
      "Learning rate = 0.055        \n",
      "Initial weights = [1.  0.5] \n",
      "\n",
      "Iteration #0: W_new = [ 6.94  21.235], MSE = 3047.75\n",
      "Iteration #10: W_new = [22.06405765 13.06063842], MSE = 848.44\n",
      "Iteration #20: W_new = [31.21345509  8.7771262 ], MSE = 268.66\n",
      "Iteration #30: W_new = [36.73513379  6.50786479], MSE = 109.6\n",
      "Iteration #40: W_new = [40.06112387  5.29211526], MSE = 64.0\n",
      "Iteration #50: W_new = [42.06149781  4.63338341], MSE = 50.33\n",
      "Iteration #60: W_new = [43.26313928  4.2724736 ], MSE = 46.05\n",
      "Iteration #70: W_new = [43.98427548  4.07261073], MSE = 44.67\n",
      "Iteration #80: W_new = [44.41671151  3.96081125], MSE = 44.21\n",
      "Iteration #90: W_new = [44.67586386  3.89768846], MSE = 44.05\n",
      "Iteration #100: W_new = [44.83109194  3.86174724], MSE = 44.0\n",
      "Iteration #110: W_new = [44.92403348  3.84112851], MSE = 43.98\n",
      "Iteration #120: W_new = [44.97966334  3.82922172], MSE = 43.97\n"
     ]
    }
   ],
   "source": [
    "n = X.shape[1]\n",
    "alpha = 0.055\n",
    "W = np.array([1, 0.5])\n",
    "print(f'Number of objects = {n} \\\n",
    "       \\nLearning rate = {alpha} \\\n",
    "       \\nInitial weights = {W} \\n')\n",
    "\n",
    "for i in range(121):\n",
    "    y_pred = np.dot(W, X)\n",
    "    err = calc_mse(y, y_pred)\n",
    "    W -= alpha * (1/n * 2 * np.sum(X * (y_pred - y), axis = 1)) # add axis = 1\n",
    "    if i % 10 == 0:\n",
    "        print(f'Iteration #{i}: W_new = {W}, MSE = {round(err,2)}')"
   ]
  },
  {
   "cell_type": "markdown",
   "metadata": {},
   "source": []
  },
  {
   "cell_type": "markdown",
   "metadata": {},
   "source": [
    "### Minimize MSE"
   ]
  },
  {
   "cell_type": "code",
   "execution_count": 8,
   "metadata": {},
   "outputs": [],
   "source": [
    "def solution(alpha = 0.055, n_iter = 121, shade = 0.01):\n",
    "    n = X.shape[1]\n",
    "    W = np.array([1, 0.5])\n",
    "    for i in range(int(n_iter)):\n",
    "        y_pred = np.dot(W, X)\n",
    "        err = calc_mse(y, y_pred)\n",
    "        W -= alpha * (1/n * 2 * np.sum(X * (y_pred - y), axis = 1))\n",
    "        alpha  -= alpha * shade\n",
    "    return -err\n",
    "    "
   ]
  },
  {
   "cell_type": "code",
   "execution_count": 9,
   "metadata": {},
   "outputs": [
    {
     "data": {
      "text/plain": [
       "-43.97241493228741"
      ]
     },
     "execution_count": 9,
     "metadata": {},
     "output_type": "execute_result"
    }
   ],
   "source": [
    "solution(shade = 0) "
   ]
  },
  {
   "cell_type": "code",
   "execution_count": 10,
   "metadata": {},
   "outputs": [],
   "source": [
    "pbounds = {'alpha': (0.01, 0.1), 'n_iter': (121, 1000), 'shade': (0, 0.01)}\n",
    "\n",
    "optimizer = BayesianOptimization(\n",
    "    f=solution,\n",
    "    pbounds=pbounds,\n",
    "    random_state=1,\n",
    "    verbose=1\n",
    ")"
   ]
  },
  {
   "cell_type": "code",
   "execution_count": 11,
   "metadata": {},
   "outputs": [
    {
     "name": "stdout",
     "output_type": "stream",
     "text": [
      "|   iter    |  target   |   alpha   |  n_iter   |   shade   |\n",
      "-------------------------------------------------------------\n",
      "| \u001b[95m 6       \u001b[0m | \u001b[95m-43.97   \u001b[0m | \u001b[95m 0.04757 \u001b[0m | \u001b[95m 754.2   \u001b[0m | \u001b[95m 1.196e-0\u001b[0m |\n",
      "| \u001b[95m 18      \u001b[0m | \u001b[95m-43.97   \u001b[0m | \u001b[95m 0.04933 \u001b[0m | \u001b[95m 754.2   \u001b[0m | \u001b[95m 0.0     \u001b[0m |\n",
      "| \u001b[95m 28      \u001b[0m | \u001b[95m-43.97   \u001b[0m | \u001b[95m 0.05038 \u001b[0m | \u001b[95m 754.2   \u001b[0m | \u001b[95m 0.000854\u001b[0m |\n",
      "=============================================================\n",
      "Time:  339.2804967\n"
     ]
    }
   ],
   "source": [
    "start = timeit.default_timer()\n",
    "\n",
    "optimizer.maximize(\n",
    "    init_points=2,\n",
    "    n_iter=100\n",
    ")\n",
    "\n",
    "stop = timeit.default_timer()\n",
    "print('Time: ', stop - start)  "
   ]
  },
  {
   "cell_type": "code",
   "execution_count": 12,
   "metadata": {},
   "outputs": [],
   "source": [
    "best_param = list(optimizer.max['params'].values())"
   ]
  },
  {
   "cell_type": "code",
   "execution_count": 13,
   "metadata": {},
   "outputs": [
    {
     "data": {
      "text/plain": [
       "43.968749999999986"
      ]
     },
     "execution_count": 13,
     "metadata": {},
     "output_type": "execute_result"
    }
   ],
   "source": [
    "solution(*best_param) * -1"
   ]
  },
  {
   "cell_type": "code",
   "execution_count": 14,
   "metadata": {},
   "outputs": [
    {
     "name": "stdout",
     "output_type": "stream",
     "text": [
      "BEST PARAMS: {'alpha': 0.050381797132125025, 'n_iter': 754.1728044139238, 'shade': 0.0008549036380771859}\n"
     ]
    }
   ],
   "source": [
    "print('BEST PARAMS:',optimizer.max['params'] )"
   ]
  },
  {
   "cell_type": "code",
   "execution_count": 15,
   "metadata": {},
   "outputs": [
    {
     "data": {
      "text/plain": [
       "43.968749999999986"
      ]
     },
     "execution_count": 15,
     "metadata": {},
     "output_type": "execute_result"
    }
   ],
   "source": [
    "43.968749999999986"
   ]
  }
 ],
 "metadata": {
  "colab": {
   "collapsed_sections": [],
   "name": "Lesson1.ipynb",
   "provenance": []
  },
  "kernelspec": {
   "display_name": "Python 3",
   "language": "python",
   "name": "python3"
  },
  "language_info": {
   "codemirror_mode": {
    "name": "ipython",
    "version": 3
   },
   "file_extension": ".py",
   "mimetype": "text/x-python",
   "name": "python",
   "nbconvert_exporter": "python",
   "pygments_lexer": "ipython3",
   "version": "3.7.5"
  }
 },
 "nbformat": 4,
 "nbformat_minor": 1
}
